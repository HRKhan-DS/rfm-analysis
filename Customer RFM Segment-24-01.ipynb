{
 "cells": [
  {
   "cell_type": "markdown",
   "id": "d688243e",
   "metadata": {},
   "source": [
    "# Project name: Customer Segmentation for E-commerce\n",
    "\n",
    "Category:  Machine Learning, Customer Analytics\n",
    "\n",
    "Importance: Identify customer segments based on behavior for targeted marketing and personalization.\n",
    "\n",
    "Levels:\n",
    "Level 1: Basic segmentation using RFM analysis.\n",
    "\n",
    "Level 2: Incorporate machine learning clustering algorithms.\n",
    "\n",
    "Level 3: Compairing RFM with clustering algorithms."
   ]
  },
  {
   "cell_type": "markdown",
   "id": "8c87be83",
   "metadata": {},
   "source": [
    "# Challenges\n",
    "\n",
    "1. Should have to know RFM\n",
    "2. Rules to segmantation without ML\n",
    "3. K means clustering "
   ]
  },
  {
   "cell_type": "markdown",
   "id": "47ec395b",
   "metadata": {},
   "source": [
    "# RFM\n",
    "\n",
    "1. Recency (R): Refers to the time since a customer's last purchase. It measures how recently a customer has interacted or made a purchase. The assumption is that more recent customers are likely to be more engaged and responsive.\n",
    "\n",
    "2. Frequency (F): Represents the number of times a customer has made a purchase within a given period. It indicates the level of engagement and loyalty. Higher frequency often suggests a more loyal customer.\n",
    "\n",
    "3. Monetary Value (M): Reflects the total amount of money a customer has spent on purchases. It measures the customer's contribution to the business in terms of revenue. Higher monetary value indicates customers who are more valuable to the business."
   ]
  },
  {
   "cell_type": "markdown",
   "id": "4e582a7e",
   "metadata": {},
   "source": [
    "Import libraries for reading, preprocessing and vizualization "
   ]
  },
  {
   "cell_type": "code",
   "execution_count": null,
   "id": "e269785d",
   "metadata": {},
   "outputs": [],
   "source": [
    "import pandas as pd\n",
    "import numpy as np\n",
    "import matplotlib.pyplot as plt\n",
    "%matplotlib inline\n",
    "import seaborn as sns\n",
    "\n",
    "import missingno as msno\n",
    "from scipy import stats\n",
    "\n",
    "import warnings\n",
    "warnings.filterwarnings('ignore')"
   ]
  },
  {
   "cell_type": "code",
   "execution_count": null,
   "id": "3eb65d04",
   "metadata": {},
   "outputs": [],
   "source": [
    "path = r'G:\\Final project24\\Customer Segmentation for E-commerce\\Sales Data.xlsx'\n",
    "df = pd.read_excel(path)\n",
    "df.head()"
   ]
  },
  {
   "cell_type": "markdown",
   "id": "cbbd1459",
   "metadata": {},
   "source": [
    "# Data preprocessing"
   ]
  },
  {
   "cell_type": "code",
   "execution_count": null,
   "id": "ddc567b9",
   "metadata": {},
   "outputs": [],
   "source": [
    "df.shape"
   ]
  },
  {
   "cell_type": "code",
   "execution_count": null,
   "id": "4ff86aeb",
   "metadata": {},
   "outputs": [],
   "source": [
    "df.columns"
   ]
  },
  {
   "cell_type": "code",
   "execution_count": null,
   "id": "5522807b",
   "metadata": {},
   "outputs": [],
   "source": [
    "df.isnull().sum()"
   ]
  },
  {
   "cell_type": "code",
   "execution_count": null,
   "id": "f9706136",
   "metadata": {},
   "outputs": [],
   "source": [
    "plt.figure(figsize=(8,5))\n",
    "\n",
    "msno.matrix(df)\n",
    "plt.title('Missing value plot')\n",
    "\n",
    "plt.show()"
   ]
  },
  {
   "cell_type": "code",
   "execution_count": null,
   "id": "06741ead",
   "metadata": {},
   "outputs": [],
   "source": [
    "# Find percentage wise null\n",
    "null_count = df.isnull().sum()\n",
    "null_percentage = ((df.isnull().sum()/len(df))*100).round(2)\n",
    "\n",
    "result_df = pd.DataFrame({\"Null counts\": null_count[null_count>0],\"null percentage\": null_percentage[null_count>0]})\n",
    "\n",
    "print(result_df)"
   ]
  },
  {
   "cell_type": "code",
   "execution_count": null,
   "id": "a8f728d6",
   "metadata": {},
   "outputs": [],
   "source": [
    "df.dropna(inplace = True)"
   ]
  },
  {
   "cell_type": "code",
   "execution_count": null,
   "id": "1ff55766",
   "metadata": {},
   "outputs": [],
   "source": [
    "df.isnull().sum()"
   ]
  },
  {
   "cell_type": "code",
   "execution_count": null,
   "id": "f3709bf5",
   "metadata": {},
   "outputs": [],
   "source": [
    "df.info()"
   ]
  },
  {
   "cell_type": "code",
   "execution_count": null,
   "id": "74ff5f6a",
   "metadata": {},
   "outputs": [],
   "source": [
    "for col in df.columns:\n",
    "    print(col)\n",
    "    print(df[col].value_counts())\n",
    "    print(\"-\" * 100)"
   ]
  },
  {
   "cell_type": "code",
   "execution_count": null,
   "id": "9acf9328",
   "metadata": {},
   "outputs": [],
   "source": [
    "for col in df.describe(include = 'object').columns:\n",
    "    print(col)\n",
    "    print(df[col].unique())\n",
    "    print(\"-\"*100)"
   ]
  },
  {
   "cell_type": "markdown",
   "id": "87e0d846",
   "metadata": {},
   "source": [
    "# EDA "
   ]
  },
  {
   "cell_type": "code",
   "execution_count": null,
   "id": "8a7167af",
   "metadata": {},
   "outputs": [],
   "source": [
    "# Scatter plot\n",
    "plt.figure(figsize=(10, 6))\n",
    "plt.scatter(df['Order Date'], df['Sales'], alpha=0.5)\n",
    "\n",
    "# Set labels and title\n",
    "plt.xlabel('Order Date')\n",
    "plt.ylabel('Sales')\n",
    "plt.title('Scatter Plot of Sales Over Time')\n",
    "\n",
    "# Show the plot\n",
    "plt.show()"
   ]
  },
  {
   "cell_type": "code",
   "execution_count": null,
   "id": "2cbd2de9",
   "metadata": {},
   "outputs": [],
   "source": [
    "# Sort the DataFrame by 'Order Date' for a chronological line plot\n",
    "#df = df.sort_values('Order Date')\n",
    "\n",
    "# Line plot\n",
    "plt.figure(figsize=(10, 6))\n",
    "plt.plot(df['Order Date'], df['Sales'], marker='o', linestyle='-', color='g')\n",
    "\n",
    "# Set labels and title\n",
    "plt.xlabel('Order Date')\n",
    "plt.ylabel('Sales')\n",
    "plt.title('Line Plot of Sales Over Time')\n",
    "\n",
    "# Show the plot\n",
    "plt.show()"
   ]
  },
  {
   "cell_type": "code",
   "execution_count": null,
   "id": "267798bb",
   "metadata": {},
   "outputs": [],
   "source": [
    "df.describe()"
   ]
  },
  {
   "cell_type": "code",
   "execution_count": null,
   "id": "be16e915",
   "metadata": {},
   "outputs": [],
   "source": [
    "# Find outliers\n",
    "\n",
    "plt.figure(figsize=(10, 3))\n",
    "\n",
    "sns.boxplot(x=df[\"Sales\"])\n",
    "    \n",
    "plt.tight_layout()\n",
    "plt.show()"
   ]
  },
  {
   "cell_type": "code",
   "execution_count": null,
   "id": "236070e5",
   "metadata": {},
   "outputs": [],
   "source": [
    "# Capping outliers using the IQR method\n",
    "\n",
    "Q1 = df['Sales'].quantile(0.25)\n",
    "Q3 = df['Sales'].quantile(0.75)\n",
    "IQR = Q3 - Q1\n",
    "\n",
    "# Define the lower and upper bounds to cap outliers\n",
    "lower_bound = Q1 - 1.5 * IQR\n",
    "upper_bound = Q3 + 1.5 * IQR\n",
    "\n",
    "# Cap outliers by setting values beyond bounds to the bounds\n",
    "df['Sales'] = df['Sales'].clip(lower=lower_bound, upper=upper_bound)\n",
    "\n",
    "# Display the box plots after capping outliers\n",
    "plt.figure(figsize=(10, 3))\n",
    "sns.boxplot(x=df['Sales'])\n",
    "\n",
    "plt.tight_layout()\n",
    "plt.show()"
   ]
  },
  {
   "cell_type": "code",
   "execution_count": null,
   "id": "fd1d1e6a",
   "metadata": {},
   "outputs": [],
   "source": [
    "df['Sales'].skew()"
   ]
  },
  {
   "cell_type": "code",
   "execution_count": null,
   "id": "be042cb1",
   "metadata": {},
   "outputs": [],
   "source": [
    "from scipy.stats import boxcox\n",
    "\n",
    "# Applying the Box-Cox transformation\n",
    "df['Sales'], lambda_value = boxcox(df['Sales'] + 1)  # Adding 1 to handle zero values\n",
    "\n",
    "# Checking the skewness after transformation\n",
    "print(\"Skewness after transformation:\", df['Sales'].skew())\n",
    "\n",
    "# Plotting the distribution before and after transformation\n",
    "plt.figure(figsize=(12, 6))\n",
    "\n",
    "plt.subplot(1, 2, 1)\n",
    "sns.histplot(df['Sales'], kde=True)\n",
    "plt.title('Before Transformation')\n",
    "\n",
    "plt.subplot(1, 2, 2)\n",
    "sns.histplot(df['Sales'], kde=True)\n",
    "plt.title('After Box-Cox Transformation')\n",
    "\n",
    "plt.show()\n",
    "\n",
    "# Print the lambda value\n",
    "print(\"Optimal lambda value:\", lambda_value)"
   ]
  },
  {
   "cell_type": "code",
   "execution_count": null,
   "id": "b5957879",
   "metadata": {},
   "outputs": [],
   "source": [
    "df['Order Date'] = pd.to_datetime(df['Order Date'])"
   ]
  },
  {
   "cell_type": "code",
   "execution_count": null,
   "id": "657211a9",
   "metadata": {},
   "outputs": [],
   "source": [
    "df.head()"
   ]
  },
  {
   "cell_type": "code",
   "execution_count": null,
   "id": "a9e59cc0",
   "metadata": {},
   "outputs": [],
   "source": [
    "df['Customer ID'].unique()"
   ]
  },
  {
   "cell_type": "markdown",
   "id": "b03defb1",
   "metadata": {},
   "source": [
    "# RFM Anallysis with python"
   ]
  },
  {
   "cell_type": "markdown",
   "id": "31a709d9",
   "metadata": {},
   "source": [
    "Calculating recency, frequency and monetry"
   ]
  },
  {
   "cell_type": "code",
   "execution_count": null,
   "id": "3f06776c",
   "metadata": {},
   "outputs": [],
   "source": [
    "# Calculate recency based on 'Order Date'\n",
    "today = pd.to_datetime('2023-12-01')\n",
    "df['Recency'] = (today - df['Order Date']).dt.days\n",
    "\n",
    "# Calculate frequency\n",
    "df['Frequency'] = df.groupby('Customer ID')['Order Date'].transform('count')\n",
    "\n",
    "# Calculate monetary\n",
    "df['Monetary'] = df.groupby('Customer ID')['Sales'].transform('sum')\n",
    "\n",
    "df.head()"
   ]
  },
  {
   "cell_type": "code",
   "execution_count": null,
   "id": "f758c81e",
   "metadata": {},
   "outputs": [],
   "source": [
    "df.drop(columns=['Order ID','Product ID'], inplace = True)"
   ]
  },
  {
   "cell_type": "code",
   "execution_count": null,
   "id": "a0c32527",
   "metadata": {},
   "outputs": [],
   "source": [
    "# Convert 'Order Date' to datetime if not already\n",
    "df['Order Date'] = pd.to_datetime(df['Order Date'])\n",
    "\n",
    "# Group by 'Customer ID' and aggregate the values\n",
    "agg_df = df.groupby('Customer ID').agg({\n",
    "    'Order Date': 'first',\n",
    "    'Customer Name': 'first',\n",
    "    'Sales': 'sum',\n",
    "    'Recency': 'sum',  # You can use mean or any other aggregation function depending on your requirement\n",
    "    'Frequency': 'sum',  # Assuming you want the maximum frequency\n",
    "    'Monetary': 'sum',\n",
    "}).reset_index()\n",
    "\n",
    "# Print the aggregated DataFrame\n",
    "agg_df"
   ]
  },
  {
   "cell_type": "markdown",
   "id": "83dfb9fe",
   "metadata": {},
   "source": [
    "Create bin"
   ]
  },
  {
   "cell_type": "code",
   "execution_count": null,
   "id": "6a3776f7",
   "metadata": {},
   "outputs": [],
   "source": [
    "# Define scoring criteria for each RFM value\n",
    "recency_scores = [5, 4, 3, 2, 1]  # Higher score for lower recency (more recent)\n",
    "frequency_scores = [1, 2, 3, 4, 5]  # Higher score for higher frequency\n",
    "monetary_scores = [1, 2, 3, 4, 5]  # Higher score for higher monetary value\n",
    "\n",
    "# Calculate RFM scores\n",
    "agg_df['RecencyScore'] = pd.cut(agg_df['Recency'], bins=5, labels=recency_scores)\n",
    "agg_df['FrequencyScore'] = pd.cut(agg_df['Frequency'], bins=5, labels=frequency_scores)\n",
    "agg_df['MonetaryScore'] = pd.cut(agg_df['Monetary'], bins=5, labels=monetary_scores)\n",
    "\n",
    "# Convert RFM scores to numeric type\n",
    "agg_df['RecencyScore'] = agg_df['RecencyScore'].astype(int)\n",
    "agg_df['FrequencyScore'] = agg_df['FrequencyScore'].astype(int)\n",
    "agg_df['MonetaryScore'] = agg_df['MonetaryScore'].astype(int)\n",
    "\n",
    "# Calculate RFM score by combining the individual scores\n",
    "agg_df['RFM_Score'] = agg_df['RecencyScore'] + agg_df['FrequencyScore'] + agg_df['MonetaryScore']"
   ]
  },
  {
   "cell_type": "code",
   "execution_count": null,
   "id": "821c5ff5",
   "metadata": {},
   "outputs": [],
   "source": [
    "# List of columns for which you want to create box plots\n",
    "columns_to_plot = ['Sales', 'Recency', 'Frequency', 'Monetary',\n",
    "       'RecencyScore', 'FrequencyScore', 'RFM_Score']\n",
    "\n",
    "# Set the size of the plot\n",
    "plt.figure(figsize=(20, 15))\n",
    "\n",
    "# Loop through the columns and create box plots\n",
    "for i, column in enumerate(columns_to_plot, 1):\n",
    "    plt.subplot(4, 2, i)  # Adjust the subplot grid as needed\n",
    "    sns.boxplot(x=agg_df[column])\n",
    "    plt.title(f'Box Plot for {column}')\n",
    "\n",
    "plt.tight_layout()\n",
    "plt.show()"
   ]
  },
  {
   "cell_type": "code",
   "execution_count": null,
   "id": "4d4d2a0d",
   "metadata": {},
   "outputs": [],
   "source": [
    "# List of columns for which you want to create box plots\n",
    "columns_to_cap = ['Sales', 'Recency', 'Frequency', 'Monetary','RecencyScore', 'FrequencyScore', 'RFM_Score']\n",
    "\n",
    "# Capping outliers using the IQR method\n",
    "\n",
    "for column in columns_to_cap:\n",
    "    Q1 = agg_df[column].quantile(0.25)\n",
    "    Q3 = agg_df[column].quantile(0.75)\n",
    "    IQR = Q3 - Q1\n",
    "    # Define the lower and upper bounds to cap outliers\n",
    "    lower_bound = Q1 - 1.5 * IQR\n",
    "    upper_bound = Q3 + 1.5 * IQR\n",
    "    # Cap outliers by setting values beyond bounds to the bounds\n",
    "    agg_df[column] = agg_df[column].clip(lower=lower_bound, upper=upper_bound)\n",
    "\n",
    "# Display the box plots after capping outliers\n",
    "plt.figure(figsize=(20, 15))\n",
    "\n",
    "# Loop through the columns and create box plots\n",
    "for i, column in enumerate(columns_to_cap, 1):\n",
    "    plt.subplot(4, 2, i)  # Adjust the subplot grid as needed\n",
    "    sns.boxplot(x=agg_df[column])\n",
    "    plt.title(f'Box Plot for {column}')\n",
    "\n",
    "plt.tight_layout()\n",
    "plt.show()"
   ]
  },
  {
   "cell_type": "code",
   "execution_count": null,
   "id": "b4fee42f",
   "metadata": {},
   "outputs": [],
   "source": [
    "agg_df.columns"
   ]
  },
  {
   "cell_type": "code",
   "execution_count": null,
   "id": "ae5b4b1f",
   "metadata": {},
   "outputs": [],
   "source": []
  },
  {
   "cell_type": "code",
   "execution_count": null,
   "id": "e3b98b9e",
   "metadata": {},
   "outputs": [],
   "source": [
    "import seaborn as sns\n",
    "import matplotlib.pyplot as plt\n",
    "\n",
    "# Assuming df is your DataFrame and numeric_agg_df contains the numeric columns\n",
    "numeric_agg_df = ['Sales', 'Recency','Frequency', 'Monetary', 'RecencyScore',\n",
    "                 'MonetaryScore', 'RFM_Score']\n",
    "corr_mat = agg_df[numeric_agg_df].corr()\n",
    "\n",
    "sns.heatmap(corr_mat, annot=True, fmt=\".2f\", cmap=\"coolwarm\", linewidth = 0.5)\n",
    "plt.show()"
   ]
  },
  {
   "cell_type": "code",
   "execution_count": null,
   "id": "1bef2a3e",
   "metadata": {},
   "outputs": [],
   "source": [
    "agg_df['RFM_Score'].unique()"
   ]
  },
  {
   "cell_type": "code",
   "execution_count": null,
   "id": "d7a0f580",
   "metadata": {},
   "outputs": [],
   "source": []
  },
  {
   "cell_type": "code",
   "execution_count": null,
   "id": "77eba966",
   "metadata": {},
   "outputs": [],
   "source": [
    "# Create a new column for RFM Customer Segments\n",
    "agg_df['RFM Customer Segments'] = ''\n",
    "\n",
    "# Assign RFM segments based on RFM score thresholds\n",
    "agg_df.loc[agg_df['RFM_Score'] >= 8, 'RFM Customer Segments'] = 'Top Customer'\n",
    "agg_df.loc[(agg_df['RFM_Score'] >= 7) & (agg_df['RFM_Score'] < 8), 'RFM Customer Segments'] = 'High Value Customer'\n",
    "agg_df.loc[(agg_df['RFM_Score'] >= 6) & (agg_df['RFM_Score'] < 7), 'RFM Customer Segments'] = 'Low Value Customer'\n",
    "# agg_df.loc[(agg_df['RFM_Score'] >= 6) & (agg_df['RFM_Score'] < 7), 'RFM Customer Segments'] = \"Low Value Customer\"\n",
    "agg_df.loc[(agg_df['RFM_Score'] < 6), 'RFM Customer Segments'] = \"Lost Customer\""
   ]
  },
  {
   "cell_type": "code",
   "execution_count": null,
   "id": "6644b5ef",
   "metadata": {},
   "outputs": [],
   "source": [
    "agg_df.head()"
   ]
  },
  {
   "cell_type": "code",
   "execution_count": null,
   "id": "6a809fd7",
   "metadata": {},
   "outputs": [],
   "source": [
    "from mpl_toolkits.mplot3d import Axes3D\n",
    "import matplotlib.pyplot as plt\n",
    "\n",
    "# Assuming you have three dimensions: Recency, Frequency, and Monetary\n",
    "# Assuming 'Monetary' is the hue column\n",
    "fig = plt.figure(figsize=(10, 8))\n",
    "ax = fig.add_subplot(111, projection='3d')\n",
    "\n",
    "# Scatter plot with different colors based on the 'Monetary' column\n",
    "scatter = ax.scatter(\n",
    "    agg_df['Recency'], \n",
    "    agg_df['Frequency'], \n",
    "    agg_df['Monetary'], \n",
    "    c=agg_df['RFM_Score'],  # Use 'Monetary' column as the hue\n",
    "    cmap='viridis', \n",
    "    s=50\n",
    ")\n",
    "\n",
    "# Set labels for each axis\n",
    "ax.set_xlabel('RecencyScore')\n",
    "ax.set_ylabel('FrequencyScore')\n",
    "ax.set_zlabel('MonetaryScore')\n",
    "\n",
    "# Add a colorbar\n",
    "colorbar = plt.colorbar(scatter, ax=ax)\n",
    "colorbar.set_label('Monetary')\n",
    "\n",
    "# Show the plot\n",
    "plt.show()"
   ]
  },
  {
   "cell_type": "code",
   "execution_count": null,
   "id": "815fc55f",
   "metadata": {},
   "outputs": [],
   "source": [
    "agg_df.shape"
   ]
  },
  {
   "cell_type": "markdown",
   "id": "a474d0ba",
   "metadata": {},
   "source": [
    "# Show the Results"
   ]
  },
  {
   "cell_type": "code",
   "execution_count": null,
   "id": "8004c3b1",
   "metadata": {},
   "outputs": [],
   "source": [
    "# Assuming 'input_customer_id' is the ID you want to input\n",
    "input_customer_id = 'SO-20335'  # Replace with the actual customer ID\n",
    "\n",
    "# Filter the DataFrame based on the input customer ID\n",
    "selected_customer = agg_df[agg_df['Customer ID'] == input_customer_id]\n",
    "\n",
    "# Display all details for the selected customer\n",
    "print(\"Details for Customer ID:\", input_customer_id)\n",
    "selected_customer"
   ]
  },
  {
   "cell_type": "code",
   "execution_count": null,
   "id": "0fbb1e41",
   "metadata": {},
   "outputs": [],
   "source": [
    "# Filter the DataFrame to get only the rows where 'RFM Customer Segments' is 'Top Customer'\n",
    "top_customer_df = agg_df[agg_df['RFM Customer Segments'] == 'Top Customer']\n",
    "\n",
    "# Display the Customer IDs of the top customers\n",
    "top_customer_df_ids = top_customer_df['Customer ID'].unique()\n",
    "print(\"top_Customer_Ids:\", len(top_customer_df_ids))"
   ]
  },
  {
   "cell_type": "code",
   "execution_count": null,
   "id": "c94eadd2",
   "metadata": {},
   "outputs": [],
   "source": [
    "# Filter the DataFrame to get only the rows where 'RFM Customer Segments' is 'Top Customer'\n",
    "high_value_customers = agg_df[agg_df['RFM Customer Segments'] == 'High Value Customer']\n",
    "\n",
    "# Display the Customer IDs of the top customers\n",
    "high_value_customer_ids = high_value_customers['Customer ID'].unique()\n",
    "print(\"High_Value_Customer_Ids:\", len(high_value_customer_ids))"
   ]
  },
  {
   "cell_type": "code",
   "execution_count": null,
   "id": "5dbe53ea",
   "metadata": {},
   "outputs": [],
   "source": [
    "# Filter the DataFrame to get only the rows where 'RFM Customer Segments' is 'Top Customer'\n",
    "#medium_value_customers = agg_df[agg_df['RFM Customer Segments'] == 'Medium Value Customer']\n",
    "\n",
    "# Display the Customer IDs of the top customers\n",
    "#medium_value_customer_ids = medium_value_customers['Customer ID'].unique()\n",
    "#print(\"Medium_Value_Customer_IDs:\", len(medium_value_customer_ids))"
   ]
  },
  {
   "cell_type": "code",
   "execution_count": null,
   "id": "3523d6c9",
   "metadata": {},
   "outputs": [],
   "source": [
    "# Filter the DataFrame to get only the rows where 'RFM Customer Segments' is 'Top Customer'\n",
    "low_value_customers = agg_df[agg_df['RFM Customer Segments'] == 'Low Value Customer']\n",
    "\n",
    "# Display the Customer IDs of the top customers\n",
    "low_value_customer_ids = low_value_customers['Customer ID'].unique()\n",
    "print(\"Low_Value_Customer_IDs:\", len(low_value_customer_ids))"
   ]
  },
  {
   "cell_type": "code",
   "execution_count": null,
   "id": "7cbf44d7",
   "metadata": {},
   "outputs": [],
   "source": [
    "# Filter the DataFrame to get only the rows where 'RFM Customer Segments' is 'Top Customer'\n",
    "lost_customers = agg_df[agg_df['RFM Customer Segments'] == 'Lost Customer']\n",
    "\n",
    "# Display the Customer IDs of the top customers\n",
    "lost_customer_ids = lost_customers['Customer ID'].unique()\n",
    "print(\"Lost_Customer_IDs:\", len(lost_customer_ids))"
   ]
  },
  {
   "cell_type": "markdown",
   "id": "be1ff27c",
   "metadata": {},
   "source": [
    "# ML"
   ]
  },
  {
   "cell_type": "code",
   "execution_count": null,
   "id": "b4c4b0c2",
   "metadata": {},
   "outputs": [],
   "source": [
    "from scipy import stats\n",
    "\n",
    "from sklearn.cluster import KMeans\n",
    "\n",
    "columns_of_interest = ['Sales', 'Recency', 'Frequency', 'Monetary',\n",
    "       'RecencyScore', 'FrequencyScore', 'RFM_Score']\n",
    "\n",
    "for column in columns_of_interest:\n",
    "    if column == 'Id':\n",
    "        continue  # Skip the 'Id' column\n",
    "    skewness = agg_df[column].skew()\n",
    "    if skewness > 0:\n",
    "        skew_type = \"Right_skewed\"\n",
    "    elif skewness < 0:\n",
    "        skew_type = \"Left_skewed\"\n",
    "    else:\n",
    "        skew_type = \"Approximately normal\"\n",
    "    print(f\"Column={column}: Skewness={round(skewness, 2)}, Distribution={skew_type}\")"
   ]
  },
  {
   "cell_type": "code",
   "execution_count": null,
   "id": "fa02de0a",
   "metadata": {},
   "outputs": [],
   "source": [
    "from scipy.stats import boxcox\n",
    "\n",
    "# Specify the columns with right-skewed distributions\n",
    "right_skewed_columns = ['Sales', 'Recency', 'Frequency', 'Monetary','RecencyScore','RFM_Score']\n",
    "\n",
    "# Apply Box-Cox transformation to each right-skewed column\n",
    "for column in right_skewed_columns:\n",
    "    # Add a small constant to avoid issues with zero values\n",
    "    agg_df[column] = agg_df[column] + 1\n",
    "    transformed_data, lambda_value = boxcox(agg_df[column])\n",
    "    agg_df[column] = transformed_data\n",
    "\n",
    "# Visualize the transformed data\n",
    "plt.figure(figsize=(15, 8))\n",
    "for i, column in enumerate(right_skewed_columns, 1):\n",
    "    plt.subplot(3, 2, i)\n",
    "    sns.histplot(agg_df[column], kde=True)\n",
    "    plt.title(f'Box-Cox Transformed {column}')\n",
    "\n",
    "plt.tight_layout()\n",
    "plt.show()"
   ]
  },
  {
   "cell_type": "code",
   "execution_count": null,
   "id": "8ae02ef2",
   "metadata": {},
   "outputs": [],
   "source": [
    "# from sklearn.preprocessing import StandardScalar\n",
    "\n",
    "from sklearn.preprocessing import StandardScaler\n",
    "from sklearn.cluster import KMeans"
   ]
  },
  {
   "cell_type": "code",
   "execution_count": null,
   "id": "6aaab3bb",
   "metadata": {},
   "outputs": [],
   "source": [
    "# Extract RFM columns\n",
    "rfm_data = agg_df[['RecencyScore', 'FrequencyScore', 'MonetaryScore']]\n",
    "\n",
    "# Standardize the data\n",
    "scaler = StandardScaler()\n",
    "rfm_scaled = scaler.fit_transform(rfm_data)"
   ]
  },
  {
   "cell_type": "markdown",
   "id": "bbf0f87c",
   "metadata": {},
   "source": [
    "# Elbow"
   ]
  },
  {
   "cell_type": "code",
   "execution_count": null,
   "id": "30991b77",
   "metadata": {},
   "outputs": [],
   "source": [
    "# Determine the optimal number of clusters using the Elbow Method\n",
    "wcss = []\n",
    "for i in range(1, 11):\n",
    "    kmeans = KMeans(n_clusters=i, init='k-means++', max_iter=300, n_init=10, random_state=0)\n",
    "    kmeans.fit(rfm_scaled)\n",
    "    wcss.append(kmeans.inertia_)\n",
    "\n",
    "# Plot the Elbow Method graph with different colors\n",
    "fig, ax = plt.subplots()\n",
    "ax.plot(range(1, 11), wcss, marker='o', linestyle='-', color='b', label='WCSS')\n",
    "\n",
    "# Highlight the optimal number of clusters with a different color\n",
    "optimal_clusters = 4  # Change this based on your analysis\n",
    "optimal_color = 'r'\n",
    "ax.scatter(optimal_clusters, wcss[optimal_clusters - 1], c=optimal_color, s=200, label='Optimal k')\n",
    "\n",
    "ax.set_title('Elbow Method for Optimal k')\n",
    "ax.set_xlabel('Number of clusters')\n",
    "ax.set_ylabel('WCSS')\n",
    "ax.legend()\n",
    "plt.show()"
   ]
  },
  {
   "cell_type": "code",
   "execution_count": null,
   "id": "d3b79e83",
   "metadata": {},
   "outputs": [],
   "source": [
    "from sklearn.metrics import silhouette_score\n",
    "\n",
    "# Assuming X is your scaled data\n",
    "X = agg_df[['RecencyScore', 'FrequencyScore', 'MonetaryScore']]\n",
    "scaler = StandardScaler()\n",
    "X_scaled = scaler.fit_transform(X)\n",
    "\n",
    "# Try different values of K\n",
    "for k in range(2, 6):\n",
    "    kmeans = KMeans(n_clusters=k, random_state=0)\n",
    "    agg_df['KMeans_Cluster'] = kmeans.fit_predict(X_scaled)\n",
    "    \n",
    "    # Evaluate clustering using silhouette score\n",
    "    silhouette_avg = silhouette_score(X_scaled, agg_df['KMeans_Cluster'])\n",
    "    \n",
    "    print(f\"For K={k}, Silhouette Score: {silhouette_avg}\")"
   ]
  },
  {
   "cell_type": "code",
   "execution_count": null,
   "id": "0dbf2d94",
   "metadata": {},
   "outputs": [],
   "source": [
    "# Apply k-means clustering\n",
    "X = agg_df[['RecencyScore', 'FrequencyScore', 'MonetaryScore']]\n",
    "scaler = StandardScaler()\n",
    "X_scaled = scaler.fit_transform(X)\n",
    "\n",
    "kmeans = KMeans(n_clusters=4, random_state=0)\n",
    "agg_df['KMeans_Cluster'] = kmeans.fit_predict(X_scaled)"
   ]
  },
  {
   "cell_type": "code",
   "execution_count": null,
   "id": "de3763ba",
   "metadata": {},
   "outputs": [],
   "source": [
    "agg_df.head()"
   ]
  },
  {
   "cell_type": "code",
   "execution_count": null,
   "id": "d33f36f8",
   "metadata": {},
   "outputs": [],
   "source": [
    "import matplotlib.pyplot as plt\n",
    "from mpl_toolkits.mplot3d import Axes3D\n",
    "\n",
    "# Assuming you have three dimensions: Recency, Frequency, and Monetary\n",
    "fig = plt.figure(figsize=(10, 8))\n",
    "ax = fig.add_subplot(111, projection='3d')\n",
    "\n",
    "# Scatter plot for the clusters\n",
    "scatter = ax.scatter(agg_df['Recency'], agg_df['Frequency'], agg_df['Monetary'], c=agg_df['KMeans_Cluster'], cmap='viridis', s=50)\n",
    "\n",
    "# Set labels for each axis\n",
    "ax.set_xlabel('Recency')\n",
    "ax.set_ylabel('Frequency')\n",
    "ax.set_zlabel('Monetary')\n",
    "\n",
    "# Create a custom legend\n",
    "legend_labels = agg_df['KMeans_Cluster'].unique()\n",
    "legend_handles = [plt.Line2D([0], [0], marker='o', color='w', label=f'Cluster {label}', markerfacecolor=scatter.to_rgba(label)) for label in legend_labels]\n",
    "ax.legend(handles=legend_handles, title='Clusters')\n",
    "\n",
    "# Show the plot\n",
    "plt.show()"
   ]
  },
  {
   "cell_type": "code",
   "execution_count": null,
   "id": "915675f1",
   "metadata": {},
   "outputs": [],
   "source": [
    "import matplotlib.pyplot as plt\n",
    "from mpl_toolkits.mplot3d import Axes3D\n",
    "\n",
    "# Assuming you have three dimensions: Recency, Frequency, and Monetary\n",
    "fig = plt.figure(figsize=(10, 10))\n",
    "ax = fig.add_subplot(111, projection='3d')\n",
    "\n",
    "# Scatter plot for the clusters\n",
    "scatter = ax.scatter(agg_df['RecencyScore'], agg_df['FrequencyScore'], agg_df['MonetaryScore'],\n",
    "                     c=agg_df['KMeans_Cluster'], cmap='viridis', s=50)\n",
    "\n",
    "# Set labels for each axis\n",
    "ax.set_xlabel('RecencyScore')\n",
    "ax.set_ylabel('FrequencyScore')\n",
    "ax.set_zlabel('MonetaryScore')\n",
    "\n",
    "# Create a custom legend\n",
    "legend_labels = agg_df['KMeans_Cluster'].unique()\n",
    "legend_handles = [plt.Line2D([0], [0], marker='o', color='w', label=f'Cluster {label}', markerfacecolor=scatter.to_rgba(label)) for label in legend_labels]\n",
    "ax.legend(handles=legend_handles, title='Clusters')\n",
    "\n",
    "# Show the plot\n",
    "plt.show()"
   ]
  },
  {
   "cell_type": "code",
   "execution_count": null,
   "id": "4da7f8a7",
   "metadata": {},
   "outputs": [],
   "source": [
    "import pandas as pd\n",
    "\n",
    "# Assuming you have already applied KMeans clustering and have the 'KMeans_Cluster' column in your DataFrame\n",
    "# Assuming you have already calculated RFM scores and have the 'RFM Customer Segments' column in your DataFrame\n",
    "\n",
    "# Create a DataFrame for cluster-wise IDs\n",
    "cluster_category = pd.DataFrame()\n",
    "for cluster_id in agg_df['KMeans_Cluster'].unique():\n",
    "    cluster_data = agg_df[agg_df['KMeans_Cluster'] == cluster_id]\n",
    "    cluster_category[f'Cluster_{cluster_id}_IDs'] = cluster_data['Customer ID']\n",
    "\n",
    "# Create a DataFrame for RFM score-wise IDs\n",
    "rfm_category = pd.DataFrame()\n",
    "for rfm_cat in agg_df['RFM Customer Segments'].unique():\n",
    "    rfm_data = agg_df[agg_df['RFM Customer Segments'] == rfm_cat]\n",
    "    rfm_category[f'RFM_{rfm_cat}_IDs'] = rfm_data['Customer ID']\n",
    "\n",
    "# Combine both DataFrames\n",
    "combined_ids = pd.DataFrame({\n",
    "    'Customer ID': agg_df['Customer ID'],\n",
    "    'Cluster_category': agg_df['KMeans_Cluster'],\n",
    "    'RFM_category': agg_df['RFM Customer Segments']\n",
    "})\n",
    "\n",
    "# Display the combined DataFrame\n",
    "combined_ids"
   ]
  },
  {
   "cell_type": "code",
   "execution_count": null,
   "id": "f18108cf",
   "metadata": {},
   "outputs": [],
   "source": [
    "from sklearn.metrics import adjusted_rand_score\n",
    "\n",
    "# Assuming you have the true labels for comparison (e.g., true RFM segmentation)\n",
    "true_labels = agg_df['RFM Customer Segments']\n",
    "\n",
    "# Calculate Adjusted Rand Index\n",
    "ari_score = adjusted_rand_score(true_labels, agg_df['KMeans_Cluster'])\n",
    "\n",
    "print(f'Adjusted Rand Index between KMeans clustering and RFM segmentation: {ari_score}')"
   ]
  },
  {
   "cell_type": "code",
   "execution_count": null,
   "id": "153bb705",
   "metadata": {},
   "outputs": [],
   "source": [
    "from sklearn.metrics import adjusted_mutual_info_score\n",
    "\n",
    "# Assuming you have the true labels for comparison (e.g., true RFM segmentation)\n",
    "true_labels = agg_df['RFM Customer Segments']\n",
    "\n",
    "# Calculate Adjusted Mutual Information\n",
    "ami_score = adjusted_mutual_info_score(true_labels, agg_df['KMeans_Cluster'])\n",
    "\n",
    "print(f'Adjusted Mutual Information between KMeans clustering and RFM segmentation: {ami_score}')"
   ]
  },
  {
   "cell_type": "code",
   "execution_count": null,
   "id": "1c6d36bd",
   "metadata": {},
   "outputs": [],
   "source": [
    "agg_df.to_csv(\"test_rfm.csv\", index = False)"
   ]
  },
  {
   "cell_type": "code",
   "execution_count": null,
   "id": "84d677e3",
   "metadata": {},
   "outputs": [],
   "source": [
    "# Save the combined DataFrame to a CSV file\n",
    "combined_ids.to_csv('combined_ids.csv', index=False)"
   ]
  },
  {
   "cell_type": "code",
   "execution_count": null,
   "id": "6b78cb06",
   "metadata": {},
   "outputs": [],
   "source": []
  }
 ],
 "metadata": {
  "kernelspec": {
   "display_name": "Python 3 (ipykernel)",
   "language": "python",
   "name": "python3"
  },
  "language_info": {
   "codemirror_mode": {
    "name": "ipython",
    "version": 3
   },
   "file_extension": ".py",
   "mimetype": "text/x-python",
   "name": "python",
   "nbconvert_exporter": "python",
   "pygments_lexer": "ipython3",
   "version": "3.11.5"
  }
 },
 "nbformat": 4,
 "nbformat_minor": 5
}
